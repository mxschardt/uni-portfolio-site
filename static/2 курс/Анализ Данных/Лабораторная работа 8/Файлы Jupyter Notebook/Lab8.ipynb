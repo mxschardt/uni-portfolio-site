{
 "cells": [
  {
   "cell_type": "markdown",
   "id": "32beea40",
   "metadata": {},
   "source": [
    "# **Лабораторная работа 8. Регрессионный анализ. Модели и методы.**  \n",
    "\n",
    "> Авторы: Балаев Жамал, Васильева Марина, Иванов Никита, Максим Шардт"
   ]
  },
  {
   "cell_type": "markdown",
   "id": "86decd16",
   "metadata": {},
   "source": [
    "### **Формулировка задания лабораторной работы**"
   ]
  },
  {
   "cell_type": "markdown",
   "id": "871b57e5",
   "metadata": {},
   "source": [
    "**Задание 1**  \n",
    "Изучить теоретический материал  "
   ]
  },
  {
   "cell_type": "markdown",
   "id": "914c4f80",
   "metadata": {},
   "source": [
    "**Задание 2**  \n",
    "Построить уравнение регрессии оценить его качество.  "
   ]
  },
  {
   "cell_type": "markdown",
   "id": "cc739b7d",
   "metadata": {},
   "source": [
    "**Задание 2.1**  \n",
    "Построить график зависимости между переменными, по которому необходимо подобрать модель регрессии.  "
   ]
  },
  {
   "cell_type": "markdown",
   "id": "4c4221e6",
   "metadata": {},
   "source": [
    "**Задание 2.2**  \n",
    "Рассчитать параметры уравнения регрессии методом наименьших квадратов.  "
   ]
  },
  {
   "cell_type": "markdown",
   "id": "894b19c2",
   "metadata": {},
   "source": [
    "**Задание 2.3**  \n",
    "Оценить качество уравнения с помощью средней ошибки аппроксимации.  "
   ]
  },
  {
   "cell_type": "markdown",
   "id": "81dc8947",
   "metadata": {},
   "source": [
    "**Задание 2.4**  \n",
    "Найти коэффициент эластичности.  "
   ]
  },
  {
   "cell_type": "markdown",
   "id": "ae576ee0",
   "metadata": {},
   "source": [
    "**Задание 2.5**  \n",
    "Оценить тесноту связи между переменными с помощью показателей корреляции и детерминации.  "
   ]
  },
  {
   "cell_type": "markdown",
   "id": "ef57798b",
   "metadata": {},
   "source": [
    "**Задание 2.6**  \n",
    "Оценить значимость коэффициентов корреляции и регрессии о критерию t-Стьюдента при уровне значимости   α = 0.05.  "
   ]
  },
  {
   "cell_type": "markdown",
   "id": "c8763331",
   "metadata": {},
   "source": [
    "**Задание 2.7**  \n",
    "Охарактеризовать статистическую надежность результатов регрессионного анализа с использованием критерия F-Фишера при уровне значимости   α = 0.05.  "
   ]
  },
  {
   "cell_type": "markdown",
   "id": "0be66820",
   "metadata": {},
   "source": [
    "**Задание 2.8**  \n",
    "Определить прогнозное значение результативного признака, если возможное значение факторного признака составит 1.2 от его среднего уровня по совокупности.  "
   ]
  },
  {
   "cell_type": "markdown",
   "id": "525365f5",
   "metadata": {},
   "source": [
    "**Задание 3.**  \n",
    "Результаты выполненной работы разместить в Moodle.  "
   ]
  },
  {
   "cell_type": "markdown",
   "id": "d97fef0f",
   "metadata": {},
   "source": [
    "## **Решение**"
   ]
  },
  {
   "cell_type": "markdown",
   "id": "bb42412d",
   "metadata": {},
   "source": [
    "Импортируются необходимые модули и библиотеки"
   ]
  },
  {
   "cell_type": "code",
   "execution_count": 124,
   "id": "b89b1180",
   "metadata": {},
   "outputs": [],
   "source": [
    "import numpy as np\n",
    "import pandas as pd\n",
    "import matplotlib.pyplot as plt\n",
    "import seaborn as sns\n",
    "import csv\n",
    "\n",
    "sns.set(style=\"darkgrid\")"
   ]
  },
  {
   "cell_type": "markdown",
   "id": "a3e2c600",
   "metadata": {},
   "source": [
    "Проходит считыввание значений y и x "
   ]
  },
  {
   "cell_type": "code",
   "execution_count": 125,
   "id": "3231f61d",
   "metadata": {},
   "outputs": [],
   "source": [
    "with open('data.csv', newline='') as csvfile:\n",
    "    reader = csv.reader(csvfile)\n",
    "    y, x = reader\n",
    "    x = np.array(x[1:], int)\n",
    "    y = np.array(y[1:], float)"
   ]
  },
  {
   "cell_type": "markdown",
   "id": "395d54ff",
   "metadata": {},
   "source": [
    "На график наносятся точки, значения которых соответсвует x и y. Храрактер расположени точек на графике показывает, что связь между переменными может выражаться линейным уравнением регрессии."
   ]
  },
  {
   "cell_type": "code",
   "execution_count": 126,
   "id": "9f3c054f",
   "metadata": {},
   "outputs": [
    {
     "data": {
      "text/plain": [
       "[<matplotlib.lines.Line2D at 0x7fe356439db0>]"
      ]
     },
     "execution_count": 126,
     "metadata": {},
     "output_type": "execute_result"
    },
    {
     "data": {
      "image/png": "[encoded data removed]",
      "text/plain": [
       "<Figure size 640x480 with 1 Axes>"
      ]
     },
     "metadata": {},
     "output_type": "display_data"
    }
   ],
   "source": [
    "plt.figure()\n",
    "plt.plot(x, y, 'o', label='visualization of dependency')\n",
    "z = np.polyfit (x, y, 1 )\n",
    "p = np.poly1d(z)\n",
    "plt.plot (x, p(x)) "
   ]
  },
  {
   "cell_type": "markdown",
   "id": "359056a2",
   "metadata": {},
   "source": [
    "Для проведения всех расчетов строится вспомогательная таблица. Все средние находятся по формуле средней арифметической простой, также производится суммирование элементов таблицы:  "
   ]
  },
  {
   "cell_type": "code",
   "execution_count": 128,
   "id": "c8fd82c2",
   "metadata": {},
   "outputs": [
    {
     "name": "stdout",
     "output_type": "stream",
     "text": [
      "            x     y     x^2    y^2      xy\n",
      "№                                         \n",
      "1        33.0  13.8  1089.0  190.4   455.4\n",
      "2        40.0  13.8  1600.0  190.4   552.0\n",
      "3        36.0  14.0  1296.0  196.0   504.0\n",
      "4        60.0  22.5  3600.0  506.2  1350.0\n",
      "5        55.0  24.0  3025.0  576.0  1320.0\n",
      "6        80.0  28.0  6400.0  784.0  2240.0\n",
      "7        95.0  32.0  9025.0 1024.0  3040.0\n",
      "8        70.0  20.9  4900.0  436.8  1463.0\n",
      "9        48.0  22.0  2304.0  484.0  1056.0\n",
      "10       53.0  21.5  2809.0  462.2  1139.5\n",
      "11       95.0  32.0  9025.0 1024.0  3040.0\n",
      "12       75.0  35.0  5625.0 1225.0  2625.0\n",
      "13       63.0  24.0  3969.0  576.0  1512.0\n",
      "14      112.0  37.9 12544.0 1436.4  4244.8\n",
      "15       70.0  27.5  4900.0  756.2  1925.0\n",
      "total   985.0 368.9 72111.0 9867.9 26466.7\n",
      "average  65.7  24.6  4807.4  657.9  1764.4\n"
     ]
    }
   ],
   "source": [
    "pd.set_option('display.max_colwidth', None)\n",
    "pd.set_option('display.float_format', '{:.1f}'.format)\n",
    "n = len(x)\n",
    "df = pd.DataFrame({\n",
    "    'x': x,\n",
    "    'y': y\n",
    "}, index=(range(1, n + 1)))\n",
    "\n",
    "df.index.name = '№'\n",
    "\n",
    "df['x^2'] = df['x'] ** 2\n",
    "df['y^2'] = df['y'] ** 2\n",
    "df['xy'] = df['x'] * df['y']\n",
    "df.loc['total'] = df.sum()\n",
    "df.loc['average'] = df[:15].sum() / n\n",
    "\n",
    "print(df)"
   ]
  },
  {
   "cell_type": "markdown",
   "id": "ea8d1dc3",
   "metadata": {},
   "source": [
    "Затем производится подтсановка полученных сумм в систему уравнений:  "
   ]
  },
  {
   "cell_type": "code",
   "execution_count": 129,
   "id": "a358e1d3",
   "metadata": {},
   "outputs": [
    {
     "name": "stdout",
     "output_type": "stream",
     "text": [
      "b0 = 4.7743\n",
      "b1 = 0.3018\n"
     ]
    }
   ],
   "source": [
    "b1 = float((((df.loc[['average'], 'xy'] - df.loc[['average'], 'x'] * df.loc[['average'], 'y']))\n",
    "           / (df.loc[['average'], 'x^2'] - df.loc[['average'], 'x'] ** 2)).iloc[0])\n",
    "\n",
    "b0 = float((df.loc[['average'], 'y'] - b1 * df.loc[['average'], 'x']).iloc[0])\n",
    "print(f'b0 = {b0:0.4f}', f'b1 = {b1:0.4f}', sep='\\n')"
   ]
  },
  {
   "cell_type": "markdown",
   "id": "d527bef6",
   "metadata": {},
   "source": [
    "Таким образом уравнение имеет вид:  \n",
    "$$y' = 4,7743 + 0,3018x$$  "
   ]
  },
  {
   "cell_type": "markdown",
   "id": "5514014c",
   "metadata": {},
   "source": [
    "Коэффицент регрессии показывает, что при увелиении общей площади квартиры на 1 квадратный метр стоимость квартиры в среднем увеличвается на 0.3018 тыс. у.е."
   ]
  },
  {
   "cell_type": "markdown",
   "id": "bf46b834",
   "metadata": {},
   "source": [
    "Для проведения всех расчетов строится вспомогательная таблица. Все средние находятся по формуле средней арифметической простой, также производится суммирование элементов таблицы:  "
   ]
  },
  {
   "cell_type": "code",
   "execution_count": 130,
   "id": "94ff4419",
   "metadata": {},
   "outputs": [
    {
     "name": "stdout",
     "output_type": "stream",
     "text": [
      "            x     y     x^2    y^2      xy    y'  y-y'  (y-y')^2   A\n",
      "№                                                                   \n",
      "1        33.0  13.8  1089.0  190.4   455.4  14.7  -0.9       0.9 0.1\n",
      "2        40.0  13.8  1600.0  190.4   552.0  16.8  -3.0       9.3 0.2\n",
      "3        36.0  14.0  1296.0  196.0   504.0  15.6  -1.6       2.7 0.1\n",
      "4        60.0  22.5  3600.0  506.2  1350.0  22.9  -0.4       0.1 0.0\n",
      "5        55.0  24.0  3025.0  576.0  1320.0  21.4   2.6       6.9 0.1\n",
      "6        80.0  28.0  6400.0  784.0  2240.0  28.9  -0.9       0.8 0.0\n",
      "7        95.0  32.0  9025.0 1024.0  3040.0  33.4  -1.4       2.1 0.0\n",
      "8        70.0  20.9  4900.0  436.8  1463.0  25.9  -5.0      25.0 0.2\n",
      "9        48.0  22.0  2304.0  484.0  1056.0  19.3   2.7       7.5 0.1\n",
      "10       53.0  21.5  2809.0  462.2  1139.5  20.8   0.7       0.5 0.0\n",
      "11       95.0  32.0  9025.0 1024.0  3040.0  33.4  -1.4       2.1 0.0\n",
      "12       75.0  35.0  5625.0 1225.0  2625.0  27.4   7.6      57.6 0.2\n",
      "13       63.0  24.0  3969.0  576.0  1512.0  23.8   0.2       0.0 0.0\n",
      "14      112.0  37.9 12544.0 1436.4  4244.8  38.6  -0.7       0.5 0.0\n",
      "15       70.0  27.5  4900.0  756.2  1925.0  25.9   1.6       2.6 0.1\n",
      "total   985.0 368.9 72111.0 9867.9 26466.7 368.9   0.0     118.6 1.4\n",
      "average  65.7  24.6  4807.4  657.9  1764.4  24.6   0.0       7.9 0.1\n"
     ]
    }
   ],
   "source": [
    "df = df[:15]\n",
    "\n",
    "df[\"y'\"] = b0 + b1 * x\n",
    "df[\"y-y'\"] = y - y_\n",
    "df[\"(y-y')^2\"] = (y - y_) ** 2\n",
    "df[\"A\"] = abs((y - y_) / y)\n",
    "\n",
    "df.loc['total'] = df.sum()\n",
    "df.loc['average'] = df[:15].sum() / n\n",
    "print(df)"
   ]
  },
  {
   "cell_type": "markdown",
   "id": "bb41d92c",
   "metadata": {},
   "source": [
    "С помощью формулы срденей ошибки аппроксимации оценивается качество уравнения:"
   ]
  },
  {
   "cell_type": "code",
   "execution_count": 131,
   "id": "fe13db99",
   "metadata": {},
   "outputs": [
    {
     "name": "stdout",
     "output_type": "stream",
     "text": [
      "A = 9.031 %\n"
     ]
    }
   ],
   "source": [
    "a = float((df.loc[['total'], 'A'] / n * 100).iloc[0])\n",
    "print(f'A = {a:.3f} %')"
   ]
  },
  {
   "cell_type": "markdown",
   "id": "1aaff166",
   "metadata": {},
   "source": [
    " Находится коэффициент эластичности при линейной форме:"
   ]
  },
  {
   "cell_type": "code",
   "execution_count": 132,
   "id": "801206f8",
   "metadata": {},
   "outputs": [
    {
     "name": "stdout",
     "output_type": "stream",
     "text": [
      "Э = 0.806%\n"
     ]
    }
   ],
   "source": [
    "e = b1 * float((df.loc[['average'], 'x'] / df.loc[['average'], 'y']).iloc[0])\n",
    "print(f'Э = {e:.3f}%')"
   ]
  },
  {
   "cell_type": "markdown",
   "id": "70af1e75",
   "metadata": {},
   "source": [
    "Коэффициент эластичности показывает насколько увеличивается цена квартиры при изменении площади на 1%  \n",
    "  \n",
    "Затем с помощью коэффициента корелляции определяется тесность связи между переменными X и Y:"
   ]
  },
  {
   "cell_type": "code",
   "execution_count": 133,
   "id": "eccde903",
   "metadata": {},
   "outputs": [
    {
     "name": "stdout",
     "output_type": "stream",
     "text": [
      "r = 0.92\n",
      "r2 = 85.09%\n"
     ]
    }
   ],
   "source": [
    "xsigma = float((np.sqrt((df.loc[['average'], 'x^2'])\n",
    "                        - (df.loc[['average'], 'x']) ** 2)).iloc[0])\n",
    "ysigma = float((np.sqrt((df.loc[['average'], 'y^2'])\n",
    "                        - (df.loc[['average'], 'y']) ** 2)).iloc[0])\n",
    "\n",
    "r = float(((df.loc[['average'], 'xy'] - df.loc[['average'], 'x'] * df.loc[['average'], 'y'])\n",
    "           / (xsigma * ysigma)).iloc[0])\n",
    "r2 = r ** 2 * 100\n",
    "print(f'r = {r:0.2f}', f'r2 = {r2:0.2f}%', sep='\\n')"
   ]
  },
  {
   "cell_type": "markdown",
   "id": "f74ec20d",
   "metadata": {},
   "source": [
    "Значение кореляции близкое к единице говороит о том, что зависимость между переменными X и Y очень сильная, близкая к функциональной.  \n",
    "Коэффициент детерминации показывает, что на 85% различие стоимостей квартир определеяет их площадь, а оставшиеся 15% неуказанные факторы."
   ]
  },
  {
   "cell_type": "markdown",
   "id": "c29f331d",
   "metadata": {},
   "source": [
    "Учитывая что данные являются выборочными необходимо оценить существенность или значимость величины корлляции, для этого выдвигается гипотеза: коэффициент кореляции в генеральной совокупности равен нулю и изучаемые признак не оказывает ощутимого влияния на результат.\n",
    "$$Н_0:r_s = 0, при H_1: r_s \\neq 0$$  "
   ]
  },
  {
   "cell_type": "markdown",
   "id": "1b986981",
   "metadata": {},
   "source": [
    "Проверка гипотеза будет осуществляется с помощью t-критерия Стьюдента :"
   ]
  },
  {
   "cell_type": "code",
   "execution_count": 134,
   "id": "a5c7ee9d",
   "metadata": {},
   "outputs": [
    {
     "name": "stdout",
     "output_type": "stream",
     "text": [
      "tрасч = 8.6\n",
      "tрасч = 8.6\n"
     ]
    }
   ],
   "source": [
    "t_calc1 = abs(r) / np.sqrt((1 - r**2) / (n - 2))\n",
    "k = n - 2\n",
    "\n",
    "mb1 = float((np.sqrt(df.loc[['total'], \"(y-y')^2\"] \\\n",
    "            / ((n-2) * xsigma ** 2 * n))).iloc[0])\n",
    "t_calc2 = b1 / mb1\n",
    "\n",
    "\n",
    "print(f'tрасч = {t_calc1:.2}', f'tрасч = {t_calc1:.2}', sep='\\n')"
   ]
  },
  {
   "cell_type": "markdown",
   "id": "6765826d",
   "metadata": {},
   "source": [
    "По таблице находится значение при уровне значимости a = 0.05 и числе степеней свободы k = n - 2 = 13  \n",
    "Критерий таблицы Стьюдента tкр = 2.16  "
   ]
  },
  {
   "cell_type": "markdown",
   "id": "485c90de",
   "metadata": {},
   "source": [
    "Сравнив значение tрасч и tкр получим, что tрасч, при вычислении обоими методами, значительно больше, чем tкр, а значит нулевая гипотез отвергается, следовательно площадь квартир оказывает существенное влияние на стоимость.  \n",
    "  \n",
    "  "
   ]
  },
  {
   "cell_type": "markdown",
   "id": "f183c83b",
   "metadata": {},
   "source": [
    "С помощью критерия F-Фишера проверяется надежность уравнения:"
   ]
  },
  {
   "cell_type": "code",
   "execution_count": 135,
   "id": "4d6d47f5",
   "metadata": {},
   "outputs": [
    {
     "name": "stdout",
     "output_type": "stream",
     "text": [
      "Fрасч = 74.16\n"
     ]
    }
   ],
   "source": [
    "f_calc = r ** 2 / (1 - r ** 2) * (n - 2)\n",
    "k1 = k = 1\n",
    "k2 = n - k - 1\n",
    "print(f'Fрасч = {f_calc:.2f}')"
   ]
  },
  {
   "cell_type": "markdown",
   "id": "6d52e668",
   "metadata": {},
   "source": [
    "Используя данные таблицы было найдено значение F-критерия Фишера при уровне значимости a = 0.05 и числе стпеней свободы k1 = k = 1, k2 = n - k - 1 = 13  \n",
    "$$F_{кр} = F_{0.05;1;13} = 4.67$$  \n",
    "Так как значение Fрасч > Fкр, то уравнение статистически значимое или надежное  "
   ]
  },
  {
   "cell_type": "markdown",
   "id": "790356c7",
   "metadata": {},
   "source": [
    "Подставив значение прогнозного или возможного значения факторного признака x = 65.67, определяется прогнозное значение рузультативного признака:  \n"
   ]
  },
  {
   "cell_type": "code",
   "execution_count": 136,
   "id": "418be78a",
   "metadata": {},
   "outputs": [
    {
     "name": "stdout",
     "output_type": "stream",
     "text": [
      "y'p = 28.56\n"
     ]
    }
   ],
   "source": [
    "xp = float((df.loc[['average'], 'x'] * 1.2).iloc[0])\n",
    "yp = b0 + b1 * xp\n",
    "print(f\"y'p = {yp:.2f}\")"
   ]
  },
  {
   "cell_type": "markdown",
   "id": "4f9a9f3a",
   "metadata": {},
   "source": [
    "Полученное значение означает, что при x = 65.67 возможное значение стоимости квартиры составит 28.56 тыс. у.е.\n"
   ]
  }
 ],
 "metadata": {
  "kernelspec": {
   "display_name": "Python 3 (ipykernel)",
   "language": "python",
   "name": "python3"
  },
  "language_info": {
   "codemirror_mode": {
    "name": "ipython",
    "version": 3
   },
   "file_extension": ".py",
   "mimetype": "text/x-python",
   "name": "python",
   "nbconvert_exporter": "python",
   "pygments_lexer": "ipython3",
   "version": "3.10.6"
  }
 },
 "nbformat": 4,
 "nbformat_minor": 5
}
